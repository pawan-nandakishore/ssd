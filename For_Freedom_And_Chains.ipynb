{
 "cells": [
  {
   "cell_type": "markdown",
   "metadata": {},
   "source": [
    "## Generating Dataset\n",
    "Let's create the toy dataset. We'll have a 1 16x16 image with a 4x4 square placed somewhere inside."
   ]
  },
  {
   "cell_type": "code",
   "execution_count": 29,
   "metadata": {
    "collapsed": false
   },
   "outputs": [
    {
     "data": {
      "image/png": "[encoded data removed]",
      "text/plain": [
       "<matplotlib.figure.Figure at 0x7fc14f589a50>"
      ]
     },
     "metadata": {},
     "output_type": "display_data"
    },
    {
     "data": {
      "image/png": "[encoded data removed]",
      "text/plain": [
       "<matplotlib.figure.Figure at 0x7fc14f537f50>"
      ]
     },
     "metadata": {},
     "output_type": "display_data"
    },
    {
     "data": {
      "image/png": "[encoded data removed]",
      "text/plain": [
       "<matplotlib.figure.Figure at 0x7fc153413a90>"
      ]
     },
     "metadata": {},
     "output_type": "display_data"
    },
    {
     "data": {
      "image/png": "[encoded data removed]",
      "text/plain": [
       "<matplotlib.figure.Figure at 0x7fc14f370c50>"
      ]
     },
     "metadata": {},
     "output_type": "display_data"
    },
    {
     "data": {
      "image/png": "[encoded data removed]",
      "text/plain": [
       "<matplotlib.figure.Figure at 0x7fc14f457050>"
      ]
     },
     "metadata": {},
     "output_type": "display_data"
    }
   ],
   "source": [
    "import numpy as np\n",
    "import matplotlib.pyplot as plt\n",
    "\n",
    "for i in xrange(5):\n",
    "\n",
    "    img = np.zeros((1,3,32,32), dtype=np.float32)\n",
    "    pos_r = np.random.randint(0, img.shape[2]-4-1)\n",
    "    pos_c = np.random.randint(0, img.shape[3]-4-1)\n",
    "    img[0,:,pos_r:pos_r+4,pos_c:pos_c+4]=1\n",
    "    plt.imshow(img[0,0,:,:])\n",
    "    plt.show()"
   ]
  },
  {
   "cell_type": "markdown",
   "metadata": {},
   "source": [
    "## Generating Feature maps\n",
    "Now that we have the image, we'll go over it one by one and generate feature maps of size 4x4."
   ]
  },
  {
   "cell_type": "code",
   "execution_count": 70,
   "metadata": {
    "collapsed": false
   },
   "outputs": [],
   "source": [
    "from chainer import Chain\n",
    "import chainer\n",
    "import chainer.functions as F\n",
    "import chainer.links as L\n",
    "\n",
    "class ConvNet(Chain):\n",
    "    def __init__(self):\n",
    "        super(ConvNet, self).__init__(\n",
    "            l1=L.Convolution2D(None,32,ksize=(3,3),stride=1,pad=1),\n",
    "            l2=L.Convolution2D(32,32,ksize=(3,3),stride=1,pad=1),\n",
    "            l3=L.Convolution2D(32,32,ksize=(3,3),stride=1,pad=1)\n",
    "        )\n",
    "        \n",
    "    def __call__(self, x):\n",
    "        h1 = F.relu(self.l1(x))\n",
    "        h2 = F.max_pooling_2d(h1, 2)\n",
    "        h3 = F.relu(self.l2(h2))\n",
    "        h4 = F.max_pooling_2d(h3, 2)\n",
    "        h5 = F.relu(self.l3(h4))\n",
    "        h6 = F.max_pooling_2d(h5, 2)\n",
    "        return self.l3(F.sigmoid(h6))"
   ]
  },
  {
   "cell_type": "markdown",
   "metadata": {},
   "source": [
    "## Linear Convolution to generate shifts"
   ]
  },
  {
   "cell_type": "code",
   "execution_count": 74,
   "metadata": {
    "collapsed": false
   },
   "outputs": [
    {
     "name": "stdout",
     "output_type": "stream",
     "text": [
      "variable([[[[-0.01132645 -0.25303978 -0.22416431 -0.23044629]\n",
      "            [ 0.58845299  0.13366783 -0.12123013 -0.29083633]\n",
      "            [ 0.46195999  0.09397556 -0.06542507 -0.20067298]\n",
      "            [ 0.3226462   0.13753761 -0.02673776 -0.09327227]]\n",
      "\n",
      "           [[ 0.2710543   0.51572108  0.37952605  0.24136785]\n",
      "            [ 0.26503214  0.16012637  0.12435099  0.03920377]\n",
      "            [ 0.23452768 -0.17853735 -0.18244636 -0.34492147]\n",
      "            [ 0.04638854 -0.35323668 -0.21105537 -0.31223714]]\n",
      "\n",
      "           [[ 0.26346633  0.18129471  0.00375336 -0.19129226]\n",
      "            [ 0.14781675  0.08322529  0.07135241 -0.01349947]\n",
      "            [ 0.18261363  0.28556848  0.15135224 -0.02083891]\n",
      "            [ 0.02119843 -0.01249201 -0.01844944 -0.04112962]]\n",
      "\n",
      "           [[ 0.0185515  -0.24254642 -0.27667865 -0.18742724]\n",
      "            [ 0.20277523 -0.09825141 -0.08822567 -0.20940785]\n",
      "            [ 0.47817242  0.10051882  0.20033857 -0.13496475]\n",
      "            [ 0.41054383  0.31215805  0.38353115  0.03767049]]\n",
      "\n",
      "           [[-0.13781404 -0.1898746   0.15269773  0.26551074]\n",
      "            [-0.33704916 -0.60288841 -0.18829209 -0.1353388 ]\n",
      "            [-0.23813504 -0.54175514 -0.16781589 -0.17202321]\n",
      "            [-0.04000718 -0.21191818 -0.12649561 -0.23150827]]\n",
      "\n",
      "           [[-0.0876895  -0.00642306  0.19126734  0.04057413]\n",
      "            [-0.111248   -0.10374369  0.16953775  0.02780555]\n",
      "            [-0.02067451  0.02899904  0.42874107  0.22932309]\n",
      "            [-0.06976342 -0.06350693  0.16454273  0.24550346]]]])\n"
     ]
    }
   ],
   "source": [
    "class BoxNet(Chain):\n",
    "    def __init__(self):\n",
    "        super(BoxNet, self).__init__(\n",
    "            l1=L.Convolution2D(None,6,ksize=(3,3),stride=1,pad=1)\n",
    "        )\n",
    "        \n",
    "    def __call__(self, x):\n",
    "        h1 = self.l1(x)\n",
    "        return h1\n",
    "    \n",
    "convnet = ConvNet()\n",
    "boxnet = BoxNet()\n",
    "fm = convnet(img)\n",
    "shifts = boxnet(fm)\n",
    "print(output)"
   ]
  },
  {
   "cell_type": "markdown",
   "metadata": {},
   "source": [
    "## Draw generated default boxes on top of the original image"
   ]
  },
  {
   "cell_type": "code",
   "execution_count": 119,
   "metadata": {
    "collapsed": false
   },
   "outputs": [
    {
     "data": {
      "image/png": "[encoded data removed]",
      "text/plain": [
       "<matplotlib.figure.Figure at 0x7fc1534b6990>"
      ]
     },
     "metadata": {},
     "output_type": "display_data"
    },
    {
     "data": {
      "text/plain": [
       "(19.0, 3.0, 5.0, 5.0, 0.0, 0.0)"
      ]
     },
     "execution_count": 119,
     "metadata": {},
     "output_type": "execute_result"
    }
   ],
   "source": [
    "from matplotlib import patches\n",
    "\n",
    "# Function to generate default boxes\n",
    "def defaultgen( I, F, width, height): \n",
    "    \"\"\"\n",
    "    Generates an array of default boxes: TESTED\n",
    "    \n",
    "    Args:\n",
    "        I: Input image tensor (N,channels,rows,cols)\n",
    "        F: Feature map tensor to generate default boxes for\n",
    "        width: Width of the box\n",
    "        height: Height of the box\n",
    "        \n",
    "    Returns:\n",
    "        db: Default boxes tensor, flattened\n",
    "    \"\"\"\n",
    "    boxes = np.zeros((F.shape[2], F.shape[3], 6))\n",
    "    scale = (I.shape[2]/ F.shape[2])\n",
    "    \n",
    "    for i in range(F.shape[2]): \n",
    "        for j in range(F.shape[3]): \n",
    "            \n",
    "            # d depends on the number of max pooling layers\n",
    "            cx  = ((( scale- 1)/ 2 )+ (j*(scale )))\n",
    "            cy  = (((scale - 1)/ 2 )+ (i*(scale ))) \n",
    "            \n",
    "            boxes[i,j,:] = np.array([cx,cy,width, height, 0, 0])\n",
    "            \n",
    "    return boxes.reshape(F.shape[2] * F.shape[3], 6)\n",
    "\n",
    "def center_to_coords(box):\n",
    "    \"\"\" \n",
    "    Converts bounding box from (cx, cy, w, h) format to (x1, y1, x2, y2) format\n",
    "    \n",
    "    Args:\n",
    "        box: 6d numpy array\n",
    "        \n",
    "    Returns:\n",
    "        box_transformed: Box in the second format\n",
    "    \n",
    "    \"\"\"\n",
    "    box_transformed = np.array([box[0]-box[2]/2.0, box[1]+box[3]/2.0, box[0]+box[2]/2.0, box[1]-box[3]/2.0, box[4], box[5]])\n",
    "    return box_transformed\n",
    "\n",
    "\n",
    "def draw_boxes(img, boxes):\n",
    "    plt.figure()\n",
    "    ax = plt.axes()\n",
    "\n",
    "    for box in boxes:\n",
    "        box = center_to_coords(box)\n",
    "        ax.imshow(img[0,0,:,:])\n",
    "        p = patches.Rectangle((box[0], box[1]), box[2]-box[0], box[3]-box[1], fill=False, color='red')\n",
    "        ax.add_patch(p)\n",
    "\n",
    "    plt.show()\n",
    "\n",
    "def_boxes = defaultgen(img, fm, 5,5)\n",
    "def_boxes[0][2:4]\n",
    "draw_boxes(img, def_boxes)\n",
    "tuple(def_boxes[2])"
   ]
  },
  {
   "cell_type": "markdown",
   "metadata": {},
   "source": [
    "## Draw predictions on top of the original image\n",
    "Now with the shift tensor we have obtained from running convnet and boxnet together, let's offset the default boxes."
   ]
  },
  {
   "cell_type": "code",
   "execution_count": 128,
   "metadata": {
    "collapsed": false
   },
   "outputs": [
    {
     "data": {
      "text/plain": [
       "variable([[[ 0.24698617,  0.0577729 , -0.01022299, -0.12986304,\n",
       "             0.07537354, -0.15442716],\n",
       "           [-0.2618534 , -0.35989481, -0.1499566 , -0.29884976,\n",
       "            -0.4064233 , -0.29353878],\n",
       "           [-0.10556263, -0.37198743, -0.42026427, -0.31644922,\n",
       "            -0.28402373, -0.09043977],\n",
       "           [-0.04924194,  0.31574908, -0.33826223,  0.08958955,\n",
       "             0.16340928,  0.59542888],\n",
       "           [-0.32630366,  0.03036014,  0.16529712,  0.53242725,\n",
       "            -0.3412348 ,  0.07370429],\n",
       "           [ 0.16847478,  0.43294001, -0.11857632, -0.09325638,\n",
       "             0.01961319,  0.08932865],\n",
       "           [ 0.06642763,  0.07867718,  0.27832726,  0.19628142,\n",
       "             0.1880039 ,  0.16369925],\n",
       "           [ 0.36590916,  0.18132144,  0.26822266,  0.32182267,\n",
       "             0.39074361,  0.24331219],\n",
       "           [-0.34526977, -0.40843284, -0.63753051, -0.39764518,\n",
       "            -0.2129548 , -0.22069632],\n",
       "           [-0.27164257, -0.04484848,  0.10241784,  0.38243464,\n",
       "             0.1436875 ,  0.23239419],\n",
       "           [ 0.2483902 ,  0.27870229,  0.27496377,  0.21455009,\n",
       "            -0.06365465, -0.18895294],\n",
       "           [-0.04749501, -0.03902891, -0.12456407, -0.2275221 ,\n",
       "            -0.04946795, -0.11794237],\n",
       "           [-0.08993336, -0.30126321, -0.1650898 , -0.30198282,\n",
       "            -0.01025702,  0.02532492],\n",
       "           [-0.06526316, -0.19213827, -0.20895468,  0.12793154,\n",
       "             0.38738987,  0.45141587],\n",
       "           [-0.17468932,  0.20356132,  0.63621819,  0.576563  ,\n",
       "            -0.01715054,  0.65074199],\n",
       "           [ 1.21523011,  0.995839  , -0.20890494,  0.34267506,\n",
       "             0.79396588,  0.80443871]]])"
      ]
     },
     "execution_count": 128,
     "metadata": {},
     "output_type": "execute_result"
    }
   ],
   "source": [
    "shifts.shape\n",
    "\n",
    "shifts.reshape(1,4*4,6)"
   ]
  },
  {
   "cell_type": "markdown",
   "metadata": {},
   "source": [
    "## Do matching"
   ]
  },
  {
   "cell_type": "markdown",
   "metadata": {},
   "source": [
    "## Compute classification loss (brute force for loop cpu)"
   ]
  },
  {
   "cell_type": "markdown",
   "metadata": {},
   "source": [
    "## Compute regression loss (brute force for loop cpu)"
   ]
  },
  {
   "cell_type": "code",
   "execution_count": null,
   "metadata": {
    "collapsed": true
   },
   "outputs": [],
   "source": []
  }
 ],
 "metadata": {
  "kernelspec": {
   "display_name": "Python 2",
   "language": "python",
   "name": "python2"
  },
  "language_info": {
   "codemirror_mode": {
    "name": "ipython",
    "version": 2
   },
   "file_extension": ".py",
   "mimetype": "text/x-python",
   "name": "python",
   "nbconvert_exporter": "python",
   "pygments_lexer": "ipython2",
   "version": "2.7.12"
  },
  "toc": {
   "colors": {
    "hover_highlight": "#DAA520",
    "navigate_num": "#000000",
    "navigate_text": "#333333",
    "running_highlight": "#FF0000",
    "selected_highlight": "#FFD700",
    "sidebar_border": "#EEEEEE",
    "wrapper_background": "#FFFFFF"
   },
   "moveMenuLeft": true,
   "navigate_menu": false,
   "number_sections": true,
   "sideBar": true,
   "threshold": 4,
   "toc_cell": false,
   "toc_section_display": "block",
   "toc_window_display": false,
   "widenNotebook": false
  }
 },
 "nbformat": 4,
 "nbformat_minor": 2
}
